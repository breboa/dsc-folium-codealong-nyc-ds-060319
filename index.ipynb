{
 "cells": [
  {
   "cell_type": "markdown",
   "metadata": {},
   "source": [
    "# Folium - Codealong\n",
    "\n",
    "## Introduction \n",
    "\n",
    "In this codealong, we'll take a look at how to create an interactive map using the Folium package. From there, we'll return to APIs in the final lab for the day where you'll make an interactive map from your requests to the API!\n",
    "\n",
    "## Objectives\n",
    "\n",
    "You will be able to: \n",
    "* Create maps with Folium"
   ]
  },
  {
   "cell_type": "markdown",
   "metadata": {},
   "source": [
    "## Creating a Basemap\n",
    "\n",
    "Here we'll take a look at creating a basemap over the London region!"
   ]
  },
  {
   "cell_type": "code",
   "execution_count": 2,
   "metadata": {
    "scrolled": false
   },
   "outputs": [
    {
     "data": {
      "text/html": [
       "<div style=\"width:100%;\"><div style=\"position:relative;width:100%;height:0;padding-bottom:60%;\"><iframe src=\"data:text/html;charset=utf-8;base64,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\" style=\"position:absolute;width:100%;height:100%;left:0;top:0;border:none !important;\" allowfullscreen webkitallowfullscreen mozallowfullscreen></iframe></div></div>"
      ],
      "text/plain": [
       "<folium.folium.Map at 0x7f8b7626cdd8>"
      ]
     },
     "execution_count": 2,
     "metadata": {},
     "output_type": "execute_result"
    }
   ],
   "source": [
    "import folium\n",
    "\n",
    "lat = 51.51\n",
    "long = -0.14\n",
    "\n",
    "#Create a map of the area\n",
    "base_map = folium.Map([lat, long], zoom_start=13)\n",
    "base_map"
   ]
  },
  {
   "cell_type": "markdown",
   "metadata": {},
   "source": [
    "## Adding Markers to the Map\n",
    "\n",
    "Great! Now let's take a look at adding little markers to our map!\n",
    "\n",
    "**Note:** you may have to zoom out to see all of the markers!"
   ]
  },
  {
   "cell_type": "code",
   "execution_count": 3,
   "metadata": {},
   "outputs": [
    {
     "data": {
      "text/html": [
       "<div style=\"width:100%;\"><div style=\"position:relative;width:100%;height:0;padding-bottom:60%;\"><iframe src=\"data:text/html;charset=utf-8;base64,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\" style=\"position:absolute;width:100%;height:100%;left:0;top:0;border:none !important;\" allowfullscreen webkitallowfullscreen mozallowfullscreen></iframe></div></div>"
      ],
      "text/plain": [
       "<folium.folium.Map at 0x7f8b7626cdd8>"
      ]
     },
     "execution_count": 3,
     "metadata": {},
     "output_type": "execute_result"
    }
   ],
   "source": [
    "import numpy as np\n",
    "\n",
    "#Generate some random locations to add to our map\n",
    "x = [lat + np.random.uniform(-.1,.1) for i in range(20)]\n",
    "y = [long + np.random.uniform(-.1,.1) for i in range(20)]\n",
    "points = list(zip(x, y))\n",
    "for p in points:\n",
    "    lat = p[0]\n",
    "    long = p[1]\n",
    "    marker = folium.Marker(location=[lat, long])\n",
    "    marker.add_to(base_map)\n",
    "base_map"
   ]
  },
  {
   "cell_type": "markdown",
   "metadata": {},
   "source": [
    "## Adding Pop-up Boxes to Our Markers\n",
    "\n",
    "Often we may wish to not only place markers on the map, but to create interactive pop-ups which display information to that location. To do this, we can add a popup to our markers when adding them to the map! "
   ]
  },
  {
   "cell_type": "code",
   "execution_count": null,
   "metadata": {},
   "outputs": [],
   "source": [
    "for p in points:\n",
    "    lat = p[0]\n",
    "    long = p[1]\n",
    "    popup_text = \"Latitude: {}, Longitude: {}\".format(lat,long)\n",
    "    popup = folium.Popup(popup_text, parse_html=True)\n",
    "    marker = folium.Marker(location=[lat, long], popup=popup)\n",
    "    marker.add_to(base_map)\n",
    "base_map"
   ]
  },
  {
   "cell_type": "markdown",
   "metadata": {},
   "source": [
    "Now, if you click on the map markers, you should see a little information box pop up!\n",
    "\n",
    "## Summary \n",
    "\n",
    "In this codealong, we learned how to use Folium to create some cool interactive maps with only a few lines of python code! In the next lab, you'll synthesize your skills for the day together and create an interactive visualization map for data you retrieve from the Yelp API!"
   ]
  }
 ],
 "metadata": {
  "kernelspec": {
   "display_name": "Python 3",
   "language": "python",
   "name": "python3"
  },
  "language_info": {
   "codemirror_mode": {
    "name": "ipython",
    "version": 3
   },
   "file_extension": ".py",
   "mimetype": "text/x-python",
   "name": "python",
   "nbconvert_exporter": "python",
   "pygments_lexer": "ipython3",
   "version": "3.6.6"
  }
 },
 "nbformat": 4,
 "nbformat_minor": 2
}
